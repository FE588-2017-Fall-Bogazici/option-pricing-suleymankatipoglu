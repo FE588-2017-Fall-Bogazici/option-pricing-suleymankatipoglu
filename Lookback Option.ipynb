{
 "cells": [
  {
   "cell_type": "code",
   "execution_count": 6,
   "metadata": {},
   "outputs": [
    {
     "name": "stdout",
     "output_type": "stream",
     "text": [
      "Call price = 2.21534707892\n",
      "Put price = 6.7873525751\n"
     ]
    }
   ],
   "source": [
    "#Option Pricing\n",
    "\n",
    "import numpy as np\n",
    "\n",
    "r = 0.05\n",
    "S0 = 100\n",
    "K = 110\n",
    "sigma = 0.1\n",
    "T = 1\n",
    "\n",
    "np.random.randn()\n",
    "\n",
    "N = 100000\n",
    "\n",
    "C = 0\n",
    "P = 0\n",
    "\n",
    "for i in range(N):\n",
    "    WT = np.random.randn()*np.sqrt(T)\n",
    "    ST = S0*np.exp((r-0.5*sigma**2)*T + sigma*WT)\n",
    "    Smax = S0*np.exp((r-0.5*sigma**2)*T + sigma*WT)\n",
    "    Smin = S0*np.exp((r-0.5*sigma**2)*T + sigma*WT)\n",
    "    Smax = np.maximum(ST, Smax)\n",
    "    Smin = np.minimum(ST, Smin)\n",
    "    C += max(0, Smax - K)\n",
    "    P += max(0, K - Smin)\n",
    "    \n",
    "call_price = (C/N)*np.exp(-r*T)\n",
    "put_price = (P/N)*np.exp(-r*T)\n",
    "\n",
    "print('Call price =' , call_price)\n",
    "print('Put price =' , put_price)\n"
   ]
  },
  {
   "cell_type": "code",
   "execution_count": null,
   "metadata": {
    "collapsed": true
   },
   "outputs": [],
   "source": []
  }
 ],
 "metadata": {
  "kernelspec": {
   "display_name": "Python 3",
   "language": "python",
   "name": "python3"
  },
  "language_info": {
   "codemirror_mode": {
    "name": "ipython",
    "version": 3
   },
   "file_extension": ".py",
   "mimetype": "text/x-python",
   "name": "python",
   "nbconvert_exporter": "python",
   "pygments_lexer": "ipython3",
   "version": "3.6.1"
  }
 },
 "nbformat": 4,
 "nbformat_minor": 2
}
